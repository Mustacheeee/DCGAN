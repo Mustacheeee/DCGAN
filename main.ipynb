{
 "cells": [
  {
   "cell_type": "code",
   "execution_count": 1,
   "metadata": {},
   "outputs": [],
   "source": [
    "import tensorflow as tf\n",
    "import numpy as np\n",
    "import matplotlib.pyplot as plt\n",
    "%matplotlib inline\n",
    "import os\n",
    "import imageio"
   ]
  },
  {
   "cell_type": "code",
   "execution_count": 2,
   "metadata": {},
   "outputs": [
    {
     "name": "stdout",
     "output_type": "stream",
     "text": [
      "WARNING:tensorflow:From <ipython-input-2-d2a885c5bed9>:3: read_data_sets (from tensorflow.contrib.learn.python.learn.datasets.mnist) is deprecated and will be removed in a future version.\n",
      "Instructions for updating:\n",
      "Please use alternatives such as official/mnist/dataset.py from tensorflow/models.\n",
      "WARNING:tensorflow:From /Library/Frameworks/Python.framework/Versions/3.6/lib/python3.6/site-packages/tensorflow/contrib/learn/python/learn/datasets/mnist.py:260: maybe_download (from tensorflow.contrib.learn.python.learn.datasets.base) is deprecated and will be removed in a future version.\n",
      "Instructions for updating:\n",
      "Please write your own downloading logic.\n",
      "WARNING:tensorflow:From /Library/Frameworks/Python.framework/Versions/3.6/lib/python3.6/site-packages/tensorflow/contrib/learn/python/learn/datasets/mnist.py:262: extract_images (from tensorflow.contrib.learn.python.learn.datasets.mnist) is deprecated and will be removed in a future version.\n",
      "Instructions for updating:\n",
      "Please use tf.data to implement this functionality.\n",
      "Extracting ./MNIST_data/train-images-idx3-ubyte.gz\n",
      "WARNING:tensorflow:From /Library/Frameworks/Python.framework/Versions/3.6/lib/python3.6/site-packages/tensorflow/contrib/learn/python/learn/datasets/mnist.py:267: extract_labels (from tensorflow.contrib.learn.python.learn.datasets.mnist) is deprecated and will be removed in a future version.\n",
      "Instructions for updating:\n",
      "Please use tf.data to implement this functionality.\n",
      "Extracting ./MNIST_data/train-labels-idx1-ubyte.gz\n",
      "Extracting ./MNIST_data/t10k-images-idx3-ubyte.gz\n",
      "Extracting ./MNIST_data/t10k-labels-idx1-ubyte.gz\n",
      "WARNING:tensorflow:From /Library/Frameworks/Python.framework/Versions/3.6/lib/python3.6/site-packages/tensorflow/contrib/learn/python/learn/datasets/mnist.py:290: DataSet.__init__ (from tensorflow.contrib.learn.python.learn.datasets.mnist) is deprecated and will be removed in a future version.\n",
      "Instructions for updating:\n",
      "Please use alternatives such as official/mnist/dataset.py from tensorflow/models.\n"
     ]
    }
   ],
   "source": [
    "from tensorflow.examples.tutorials.mnist import input_data \n",
    "\n",
    "mnist = input_data.read_data_sets('./MNIST_data/')"
   ]
  },
  {
   "cell_type": "code",
   "execution_count": 3,
   "metadata": {},
   "outputs": [],
   "source": [
    "batch_size = 100\n",
    "z_dim = 100\n",
    "\n",
    "OUTPUT_DIR = './output/'\n",
    "\n",
    "X = tf.placeholder(dtype = tf.float32,shape=[None,28,28,1],name = 'X')\n",
    "# size of picture in MINIST is 28*28*1\n",
    "noise = tf.placeholder(dtype = tf.float32,shape=[None,z_dim],name = 'noise')\n",
    "is_training = tf.placeholder(dtype = tf.bool,name = 'is_training')\n",
    "\n",
    "def leakyrelu(x,leak = 0.2):\n",
    "    return tf.maximum(x,leak*x)"
   ]
  },
  {
   "cell_type": "markdown",
   "metadata": {},
   "source": [
    "# Discriminator"
   ]
  },
  {
   "cell_type": "code",
   "execution_count": 4,
   "metadata": {},
   "outputs": [],
   "source": [
    "# Discriminator\n",
    "def discriminator(image,reuse = None, is_training = is_training):#reuse: Discriminator and Generator share parameters\n",
    "    momentum = 0.5\n",
    "    with tf.variable_scope('discriminator',reuse = reuse):\n",
    "        h0 = leakyrelu(tf.layers.conv2d(image,kernel_size=5, filters=64,strides = 2,padding = 'SAME'))\n",
    "        \n",
    "        h1 = tf.layers.conv2d(h0,kernel_size=5,filters=128, strides=2, padding='SAME')\n",
    "        h1 = leakyrelu(tf.contrib.layers.batch_norm(h1,is_training=is_training,decay=momentum))\n",
    "        \n",
    "        h2 = tf.layers.conv2d(h1,kernel_size=5,filters=256, strides=2, padding='SAME')\n",
    "        h2 = leakyrelu(tf.contrib.layers.batch_norm(h2,is_training=is_training,decay=momentum))\n",
    "        \n",
    "        h3 = tf.layers.conv2d(h2,kernel_size=5,filters=512, strides=2, padding='SAME')\n",
    "        h3 = leakyrelu(tf.contrib.layers.batch_norm(h3,is_training=is_training,decay=momentum))\n",
    "        \n",
    "        # fully connected layer\n",
    "        h4 = tf.contrib.layers.flatten(h3)\n",
    "        h4 = tf.layers.dense(h4,units=1)\n",
    "        \n",
    "        return h4"
   ]
  },
  {
   "cell_type": "markdown",
   "metadata": {},
   "source": [
    "# Generator"
   ]
  },
  {
   "cell_type": "code",
   "execution_count": 5,
   "metadata": {},
   "outputs": [],
   "source": [
    "# Generator\n",
    "def generator(z,is_training=is_training):\n",
    "    momentum=0.9\n",
    "    with tf.variable_scope('generator',reuse=None):\n",
    "        d = 3\n",
    "        h0 = tf.layers.dense(z,units=d*d*512)\n",
    "        h0 = tf.reshape(h0,shape=[-1,d,d,512])\n",
    "        h0 = tf.nn.relu(tf.contrib.layers.batch_norm(h0,is_training=is_training,decay=momentum))\n",
    "        \n",
    "        h1 = tf.layers.conv2d_transpose(h0,kernel_size=5,filters=256,strides=2,padding='SAME')\n",
    "        h1 = tf.nn.relu(tf.contrib.layers.batch_norm(h1, is_training=is_training, decay=momentum))\n",
    "        \n",
    "        h2 = tf.layers.conv2d_transpose(h1,kernel_size=5,filters=128, strides=2, padding='SAME')\n",
    "        h2 = tf.nn.relu(tf.contrib.layers.batch_norm(h2, is_training=is_training, decay=momentum))\n",
    "        \n",
    "        h3 = tf.layers.conv2d_transpose(h2,kernel_size=5,filters=64, strides=2, padding='SAME')\n",
    "        h3 = tf.nn.relu(tf.contrib.layers.batch_norm(h3, is_training=is_training, decay=momentum))\n",
    "        \n",
    "        h4 = tf.layers.conv2d_transpose(h3,kernel_size=5,filters=1, strides=1, padding='VALID',activation=tf.nn.tanh, name='g')\n",
    "        return h4"
   ]
  },
  {
   "cell_type": "markdown",
   "metadata": {},
   "source": [
    "# Loss Function"
   ]
  },
  {
   "cell_type": "code",
   "execution_count": null,
   "metadata": {},
   "outputs": [],
   "source": [
    "g = generator(noise)\n",
    "d_real_logits = discriminator(X)\n",
    "d_fake_logits = discriminator(g,reuse=True)"
   ]
  },
  {
   "cell_type": "code",
   "execution_count": 9,
   "metadata": {},
   "outputs": [],
   "source": [
    "loss_d_real = tf.reduce_mean(tf.nn.sigmoid_cross_entropy_with_logits(labels=tf.ones_like(d_real_logits),logits=d_real_logits))\n",
    "loss_d_fake = tf.reduce_mean(tf.nn.sigmoid_cross_entropy_with_logits(labels=tf.zeros_like(d_fake_logits),logits=d_fake_logits))\n",
    "loss_d = loss_d_real+loss_d_fake\n",
    "loss_g = tf.reduce_mean(tf.nn.sigmoid_cross_entropy_with_logits(labels=tf.ones_like(d_fake_logits),logits=d_fake_logits))"
   ]
  },
  {
   "cell_type": "markdown",
   "metadata": {},
   "source": [
    "# Optimize Function"
   ]
  },
  {
   "cell_type": "code",
   "execution_count": null,
   "metadata": {},
   "outputs": [],
   "source": [
    "vars_g = [var for var in tf.trainable_variables() if var.name.startswith('generator')]\n",
    "vars_d = [var for var in tf.trainable_variables() if var.name.startswith('discriminator')]\n",
    "# make sure mean and variance in Batch Normalization is correctly recorded\n",
    "update_ops = tf.get_collection(tf.GraphKeys.UPDATE_OPS)\n",
    "with tf.control_dependencies(update_ops):\n",
    "    optimizer_d = tf.train.AdamOptimizer(learning_rate=0.0002,beta1=0.5).minimize(loss_d,var_list=vars_d)\n",
    "    optimizer_g = tf.train.AdamOptimizer(learning_rate=0.0002,beta1=0.5).minimize(loss_g,var_list=vars_g)"
   ]
  },
  {
   "cell_type": "code",
   "execution_count": null,
   "metadata": {},
   "outputs": [],
   "source": [
    "# join multiple images\n",
    "def join(images):\n",
    "    if isinstance(images,list):\n",
    "        images = np.array(images)\n",
    "    img_h = images.shape[1]\n",
    "    img_w = images.shape[2]\n",
    "    n_plots = int(np.ceil(np.sqrt(images.shape[0])))\n",
    "    m = np.ones((images.shape[1]*n_plots+n_plots+1,images.shape[2]*n_plots+n_plots+1))*0.5\n",
    "    for i in range(n_plots):\n",
    "        for j in range(n_plots):\n",
    "            this_filter = i*n_plots +j\n",
    "            if this_filter < images.shape[0]:\n",
    "                this_img = images[this_filter]\n",
    "                m[1 + i + i * img_h:1 + i + (i + 1) * img_h,\n",
    "                  1 + j + j * img_w:1 + j + (j + 1) * img_w] = this_img\n",
    "    return m"
   ]
  },
  {
   "cell_type": "markdown",
   "metadata": {},
   "source": [
    "# Training"
   ]
  },
  {
   "cell_type": "code",
   "execution_count": null,
   "metadata": {},
   "outputs": [],
   "source": [
    "sess = tf.Session()\n",
    "sess.run(tf.global_variables_initializer())\n",
    "z_samples = np.random.uniform(-1,1,[batch_size,z_dim]).astype(np.float32)\n",
    "samples = []\n",
    "loss = {'d':[],'g':[]}\n",
    "\n",
    "for i in range(50000):\n",
    "    n = np.random.uniform(-1,1,[batch_size,z_dim]).astype(np.float32)\n",
    "    batch = mnist.train.next_batch(batch_size=batch_size)[0]\n",
    "    batch = np.reshape(batch,[-1,28,28,1])\n",
    "    batch = (batch - 0.5) * 2\n",
    "    \n",
    "    d_loss,g_loss = sess.run([loss_d,loss_g],feed_dict={X:batch,noise:n,is_training:True})\n",
    "    loss['d'].append(d_loss)\n",
    "    loss['g'].append(g_loss)\n",
    "    \n",
    "    sess.run(optimizer_d,feed_dict={X:batch,noise:n,is_training:True})\n",
    "    sess.run(optimizer_g,feed_dict={X:batch,noise:n,is_training:True})\n",
    "    sess.run(optimizer_g,feed_dict={X:batch,noise:n,is_training:True})\n",
    "    \n",
    "    if 1%1000 ==0:\n",
    "        print(i,d_loss,g_loss)\n",
    "        generated_imgs=sess.run(g, feed_dict={noise: z_samples, is_training: False})\n",
    "        generated_imgs=(generated_imgs + 1) / 2\n",
    "        print(generated_imgs.shape)\n",
    "        imgs = [img[:, :, 0] for img in gen_imgs]\n",
    "        gen_imgs = montage(imgs)\n",
    "        plt.axis('off')\n",
    "        plt.imshow(gen_imgs, cmap='gray')\n",
    "        plt.savefig(os.path.join(OUTPUT_DIR, 'sample_%d.jpg' % i))\n",
    "        plt.show()\n",
    "        samples.append(gen_imgs)\n",
    "        \n",
    "plt.plot(loss['d'], label='Discriminator')\n",
    "plt.plot(loss['g'], label='Generator')\n",
    "plt.legend(loc='upper right')\n",
    "plt.savefig('Loss.png')\n",
    "plt.show()\n",
    "imageio.mimsave(os.path.join(OUTPUT_DIR, 'samples.gif'), samples, fps=5)"
   ]
  }
 ],
 "metadata": {
  "kernelspec": {
   "display_name": "Python 3",
   "language": "python",
   "name": "python3"
  },
  "language_info": {
   "codemirror_mode": {
    "name": "ipython",
    "version": 3
   },
   "file_extension": ".py",
   "mimetype": "text/x-python",
   "name": "python",
   "nbconvert_exporter": "python",
   "pygments_lexer": "ipython3",
   "version": "3.6.3"
  }
 },
 "nbformat": 4,
 "nbformat_minor": 1
}
